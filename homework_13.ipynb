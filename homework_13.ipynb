{
 "cells": [
  {
   "cell_type": "code",
   "execution_count": 1,
   "id": "c920e119",
   "metadata": {},
   "outputs": [],
   "source": [
    "import pandas as pd\n",
    "import numpy as np\n",
    "import networkx as nx\n",
    "\n",
    "import matplotlib.pyplot as plt"
   ]
  },
  {
   "cell_type": "markdown",
   "id": "9493f105",
   "metadata": {},
   "source": [
    "https://networkx.org/documentation/stable/reference/algorithms/community.html <br>\n",
    "http://networksciencebook.com/chapter/9#basics"
   ]
  },
  {
   "cell_type": "code",
   "execution_count": 2,
   "id": "00b604fe",
   "metadata": {},
   "outputs": [],
   "source": [
    "G = nx.circulant_graph(8, [1])\n",
    "edges = [\n",
    "    (0, 9),\n",
    "    (0, 1),\n",
    "    (1, 2),\n",
    "    (2, 3),\n",
    "    (3, 4),\n",
    "    (4, 5),\n",
    "    (5, 6),\n",
    "    (6, 7),\n",
    "    (7, 8),\n",
    "    (8, 9),\n",
    "]"
   ]
  },
  {
   "cell_type": "code",
   "execution_count": 3,
   "id": "e27263d4",
   "metadata": {},
   "outputs": [
    {
     "data": {
      "image/png": "[encoded data removed]",
      "text/plain": [
       "<Figure size 432x288 with 1 Axes>"
      ]
     },
     "metadata": {},
     "output_type": "display_data"
    }
   ],
   "source": [
    "nx.draw(G, with_labels=True)"
   ]
  },
  {
   "cell_type": "code",
   "execution_count": 4,
   "id": "bbc0556c",
   "metadata": {},
   "outputs": [
    {
     "data": {
      "text/plain": [
       "8"
      ]
     },
     "execution_count": 4,
     "metadata": {},
     "output_type": "execute_result"
    }
   ],
   "source": [
    "G.number_of_nodes()"
   ]
  },
  {
   "cell_type": "code",
   "execution_count": 5,
   "id": "7ec03361",
   "metadata": {},
   "outputs": [
    {
     "data": {
      "text/plain": [
       "8"
      ]
     },
     "execution_count": 5,
     "metadata": {},
     "output_type": "execute_result"
    }
   ],
   "source": [
    "G.number_of_edges()"
   ]
  },
  {
   "cell_type": "code",
   "execution_count": 6,
   "id": "9db1b604",
   "metadata": {},
   "outputs": [],
   "source": [
    "from networkx.algorithms.community.quality import modularity\n",
    "\n",
    "from networkx.utils.mapped_queue import MappedQueue\n",
    "\n",
    "N = len(G.nodes())\n",
    "m = sum([d.get(\"weight\", 1) for u, v, d in G.edges(data=True)])\n",
    "q0 = 1.0 / (2.0 * m)\n",
    "\n",
    "# Map node labels to contiguous integers\n",
    "label_for_node = {i: v for i, v in enumerate(G.nodes())}\n",
    "node_for_label = {label_for_node[i]: i for i in range(N)}\n",
    "\n",
    "# Calculate degrees\n",
    "k_for_label = G.degree(G.nodes())\n",
    "k = [k_for_label[label_for_node[i]] for i in range(N)]\n",
    "\n",
    "# Initialize community and merge lists\n",
    "communities = {i: frozenset([i]) for i in range(N)}\n",
    "merges = []"
   ]
  },
  {
   "cell_type": "code",
   "execution_count": 7,
   "id": "b182b24a",
   "metadata": {},
   "outputs": [],
   "source": [
    "# Initial modularity\n",
    "partition = [[label_for_node[x] for x in c] for c in communities.values()]\n",
    "q_cnm = modularity(G, partition)"
   ]
  },
  {
   "cell_type": "code",
   "execution_count": 8,
   "id": "14f572c9",
   "metadata": {},
   "outputs": [
    {
     "data": {
      "text/plain": [
       "[[0], [1], [2], [3], [4], [5], [6], [7]]"
      ]
     },
     "execution_count": 8,
     "metadata": {},
     "output_type": "execute_result"
    }
   ],
   "source": [
    "import networkx.algorithms.community as nx_comm\n",
    "partition"
   ]
  },
  {
   "cell_type": "code",
   "execution_count": 9,
   "id": "07f4815e",
   "metadata": {},
   "outputs": [
    {
     "data": {
      "text/plain": [
       "-0.125"
      ]
     },
     "execution_count": 9,
     "metadata": {},
     "output_type": "execute_result"
    }
   ],
   "source": [
    "nx_comm.modularity(G, partition)"
   ]
  },
  {
   "cell_type": "code",
   "execution_count": 10,
   "id": "0cf51f3f",
   "metadata": {},
   "outputs": [
    {
     "data": {
      "text/plain": [
       "0.25"
      ]
     },
     "execution_count": 10,
     "metadata": {},
     "output_type": "execute_result"
    }
   ],
   "source": [
    "partition2 = [[0,1], [2,3], [4,5], [6,7]]\n",
    "nx_comm.modularity(G, partition2)"
   ]
  },
  {
   "cell_type": "code",
   "execution_count": 11,
   "id": "10c920eb",
   "metadata": {},
   "outputs": [
    {
     "data": {
      "text/plain": [
       "0.21875"
      ]
     },
     "execution_count": 11,
     "metadata": {},
     "output_type": "execute_result"
    }
   ],
   "source": [
    "partition3 = [[0,1,2] , [3], [4,5], [6,7]]\n",
    "nx_comm.modularity(G, partition3)"
   ]
  },
  {
   "cell_type": "code",
   "execution_count": 12,
   "id": "0e3bd22a",
   "metadata": {},
   "outputs": [
    {
     "data": {
      "text/plain": [
       "8"
      ]
     },
     "execution_count": 12,
     "metadata": {},
     "output_type": "execute_result"
    }
   ],
   "source": [
    "G.number_of_edges()"
   ]
  },
  {
   "cell_type": "markdown",
   "id": "a83b3fa3",
   "metadata": {},
   "source": [
    "# Modularity networkx\n",
    "https://networkx.org/documentation/stable/reference/algorithms/generated/networkx.algorithms.community.quality.modularity.html"
   ]
  },
  {
   "cell_type": "code",
   "execution_count": null,
   "id": "54ce8ffc",
   "metadata": {},
   "outputs": [],
   "source": []
  },
  {
   "cell_type": "code",
   "execution_count": null,
   "id": "50be5623",
   "metadata": {},
   "outputs": [],
   "source": []
  },
  {
   "cell_type": "code",
   "execution_count": 47,
   "id": "b1dbef00",
   "metadata": {},
   "outputs": [
    {
     "data": {
      "text/plain": [
       "[0, 1]"
      ]
     },
     "execution_count": 47,
     "metadata": {},
     "output_type": "execute_result"
    }
   ],
   "source": [
    "from networkx.algorithms.community import greedy_modularity_communities\n",
    "c = list(greedy_modularity_communities(G))\n",
    "sorted(c[0])"
   ]
  },
  {
   "cell_type": "code",
   "execution_count": 48,
   "id": "5db356e8",
   "metadata": {},
   "outputs": [
    {
     "data": {
      "text/plain": [
       "[frozenset({0, 1}), frozenset({2, 3}), frozenset({4, 5}), frozenset({6, 7})]"
      ]
     },
     "execution_count": 48,
     "metadata": {},
     "output_type": "execute_result"
    }
   ],
   "source": [
    "c"
   ]
  },
  {
   "cell_type": "markdown",
   "id": "704e2789",
   "metadata": {},
   "source": [
    "### Modularity calculation"
   ]
  },
  {
   "cell_type": "markdown",
   "id": "ad397c0b",
   "metadata": {},
   "source": [
    "$M = \\sum\\limits_{c = 1}^{n_c } {\\left[ {\\frac{{L_c }}{L} - \\left( {\\frac{{k_c }}{{2L}}} \\right)^2 } \\right]}  \\hspace{20 mm} (9 . 12)$"
   ]
  },
  {
   "cell_type": "code",
   "execution_count": 2,
   "id": "ea2be61f",
   "metadata": {},
   "outputs": [],
   "source": [
    "def get_modularity(N, community_size, avr_degree):\n",
    "    \n",
    "    #Number of links within the community\n",
    "    L_c = community_size + 1\n",
    "    #Total od links in the network\n",
    "    L = N +1\n",
    "    #Sum of degree of the nodes in the network\n",
    "    K_c = community_size * avr_degree\n",
    "    \n",
    "    #Making the calculus of formula 9.12\n",
    "    first_tem = L_c / L\n",
    "    second_tem = (K_c / (2*L))**2\n",
    "    \n",
    "    #Return the value of modularity for cluster of size \n",
    "    return first_tem - second_tem"
   ]
  },
  {
   "cell_type": "markdown",
   "id": "ab6ba2da",
   "metadata": {},
   "source": [
    "### (A) Modularity for each obtained partition"
   ]
  },
  {
   "cell_type": "code",
   "execution_count": 3,
   "id": "7f41e35d",
   "metadata": {},
   "outputs": [],
   "source": [
    "N = 100\n",
    "avr_degree = 2\n",
    "\n",
    "dict_modularitys = {}\n",
    "for cluster_size in range(N):\n",
    "    dict_modularitys[cluster_size] = get_modularity(N, cluster_size, avr_degree)"
   ]
  },
  {
   "cell_type": "code",
   "execution_count": 7,
   "id": "e1c85078",
   "metadata": {
    "scrolled": true
   },
   "outputs": [
    {
     "data": {
      "text/plain": [
       "Text(0.5, 0, 'Cluster Size')"
      ]
     },
     "execution_count": 7,
     "metadata": {},
     "output_type": "execute_result"
    },
    {
     "data": {
      "image/png": "[encoded data removed]",
      "text/plain": [
       "<Figure size 432x288 with 1 Axes>"
      ]
     },
     "metadata": {
      "needs_background": "light"
     },
     "output_type": "display_data"
    }
   ],
   "source": [
    "plt.plot(dict_modularitys.keys(),dict_modularitys.values())\n",
    "plt.ylabel('Modularity')\n",
    "plt.xlabel('Cluster Size')"
   ]
  },
  {
   "cell_type": "markdown",
   "id": "c0c1166e",
   "metadata": {},
   "source": [
    "### Maximum modularity"
   ]
  },
  {
   "cell_type": "code",
   "execution_count": 5,
   "id": "cb1df943",
   "metadata": {},
   "outputs": [
    {
     "name": "stdout",
     "output_type": "stream",
     "text": [
      "Max modulatiry is: 0.26 for clusters with 50 nodes in a circle network with: 100 nodes and <k>: 2.\n"
     ]
    }
   ],
   "source": [
    "max_modularity = round(max(dict_modularitys.values()),2)\n",
    "clusters = max(dict_modularitys, key=dict_modularitys.get)\n",
    "\n",
    "print(f'Max modulatiry is: {max_modularity} for clusters with {clusters} nodes in a circle network with: {N} nodes and <k>: {avr_degree}.')\n"
   ]
  },
  {
   "cell_type": "markdown",
   "id": "6ba6674f",
   "metadata": {},
   "source": [
    "Was tested some values of N and for a circle network (with <k> = 2) the max modularity was fond with only two cluster."
   ]
  }
 ],
 "metadata": {
  "kernelspec": {
   "display_name": "Python 3",
   "language": "python",
   "name": "python3"
  },
  "language_info": {
   "codemirror_mode": {
    "name": "ipython",
    "version": 3
   },
   "file_extension": ".py",
   "mimetype": "text/x-python",
   "name": "python",
   "nbconvert_exporter": "python",
   "pygments_lexer": "ipython3",
   "version": "3.8.8"
  }
 },
 "nbformat": 4,
 "nbformat_minor": 5
}
