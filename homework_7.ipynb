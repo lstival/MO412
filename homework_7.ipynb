{
 "cells": [
  {
   "cell_type": "code",
   "execution_count": 1,
   "id": "876a8ace",
   "metadata": {},
   "outputs": [],
   "source": [
    "import pandas as pd\n",
    "import numpy as np\n",
    "import matplotlib.pyplot as plt\n",
    "\n",
    "import collections # Lib to count values\n",
    "import random # Lib to generate random numbers\n",
    "\n",
    "import networkx as nx\n",
    "from networkx.utils.random_sequence import powerlaw_sequence #Create a powerlaw distribution using the gamma and number of nodes\n",
    "from networkx.algorithms.graphical import is_graphical #Verify if the sequence of degrre is graphical"
   ]
  },
  {
   "cell_type": "markdown",
   "id": "a53f8d54",
   "metadata": {},
   "source": [
    "<h3 align=\"center\">  Parametes </h3>"
   ]
  },
  {
   "cell_type": "code",
   "execution_count": 2,
   "id": "6be0ab98",
   "metadata": {},
   "outputs": [],
   "source": [
    "gamma = 2.2 # The gamma value (expoent of degree)\n",
    "N = 10 ** 3 # Number of Nodes\n",
    "K_min = 1 # The minium degree of the graph\n",
    "\n",
    "df_metrics = pd.DataFrame() # Dataframe with de metrics (selfloops and multi-links)\n",
    "df_metrics['N'] = [N, N*10, N*100] # Ns will be tested\n",
    "list_seeds = [] # List of seed used in the distributions"
   ]
  },
  {
   "cell_type": "markdown",
   "id": "182adca7",
   "metadata": {},
   "source": [
    "<h3 align=\"center\">  Finding the Kmax </h3>\n",
    "<h3 align=\"center\">  $k_{\\max }  = k_{\\min } N^{\\frac{1}{{\\gamma  - 1}}}$ </h3>\n"
   ]
  },
  {
   "cell_type": "code",
   "execution_count": 3,
   "id": "4b8bf6f9",
   "metadata": {},
   "outputs": [],
   "source": [
    "def get_kmax(K_min=K_min, N=N, gamma=gamma):\n",
    "    '''\n",
    "    K_min: Minimun degree of the graph\n",
    "    N: Total the nodes in the graph\n",
    "    gamma: degree exponent to the power law\n",
    "    '''\n",
    "    \n",
    "    k_max = round(K_min * (N ** (1/(gamma -1)))) # The max degree\n",
    "    \n",
    "    return k_max"
   ]
  },
  {
   "cell_type": "markdown",
   "id": "1f31f718",
   "metadata": {},
   "source": [
    "<h3 align=\"center\"> Making the degree sequence (NetworkX)</h3>"
   ]
  },
  {
   "cell_type": "code",
   "execution_count": 4,
   "id": "ba5206c6",
   "metadata": {},
   "outputs": [],
   "source": [
    "def get_list_of_degrees(N):\n",
    "    '''\n",
    "    N: total de nodes that network need to have\n",
    "    \n",
    "    This function recives a number of nodes and return a list of degrees following th power law distribution\n",
    "    '''\n",
    "    while True:\n",
    "\n",
    "#         seed = random.randint(1,20000) # Select a random seed to generate the list of edges\n",
    "\n",
    "        seed = 546 # This seed works for all Ns tested\n",
    "        list_of_degs = [round(pk) for pk in powerlaw_sequence(N, exponent=gamma, seed=seed)] # Use power law dist\n",
    "        \n",
    "        if is_graphical(list_of_degs): # Test if the sequence of degree is valid\n",
    "            print(f'Seed to generate the distribution with {N} nodes: {seed}') # Show the seed used\n",
    "            list_seeds.append(seed)\n",
    "            return list_of_degs"
   ]
  },
  {
   "cell_type": "markdown",
   "id": "96b43352",
   "metadata": {},
   "source": [
    "<h3 align=\"center\">  Making the Pk distribution</h3>"
   ]
  },
  {
   "cell_type": "code",
   "execution_count": 5,
   "id": "c9ac243c",
   "metadata": {},
   "outputs": [],
   "source": [
    "def dotted_pk_line(k):\n",
    "    '''\n",
    "    k: degree to calculate the probability with gamma\n",
    "    \n",
    "    This functio recive a degree and return it exponed by - gamma\n",
    "    '''\n",
    "    return k ** -gamma"
   ]
  },
  {
   "cell_type": "code",
   "execution_count": 6,
   "id": "30ac3b46",
   "metadata": {},
   "outputs": [],
   "source": [
    "def degree_distribution(list_of_degs):\n",
    "    '''\n",
    "    list_of_degs: List of all degrees in the network\n",
    "    \n",
    "    This function get the distribution of list of nodes created by the power law distribution, and return\n",
    "    the list with cumulative probability and dictionary with each unique degree.\n",
    "    '''\n",
    "\n",
    "    dict_cumulative_degree = {} # Dict with how many nodes are degree equal or bigest that\n",
    "\n",
    "    for deg in (np.unique(list_of_degs)):\n",
    "        dict_cumulative_degree[deg] = len([element for element in list_of_degs if deg < element])\n",
    "\n",
    "    list_cumulative_prob = list(map(lambda x: (x[1]/len(list_of_degs)), dict_cumulative_degree.items()))\n",
    "    \n",
    "    return list_cumulative_prob, dict_cumulative_degree"
   ]
  },
  {
   "cell_type": "code",
   "execution_count": 7,
   "id": "deb75e21",
   "metadata": {},
   "outputs": [],
   "source": [
    "def K_gamma_distribution(list_of_degs):\n",
    "    '''\n",
    "    list_of_degs: List of all degrees in the network\n",
    "    \n",
    "    This function get the values for K^-2.2 for all Ks in the power law distribution\n",
    "    '''\n",
    "    dict_pk_line = {}\n",
    "    for deg in np.unique(list_of_degs):\n",
    "        dict_pk_line[deg] = dotted_pk_line(deg)\n",
    "        \n",
    "    return dict_pk_line"
   ]
  },
  {
   "cell_type": "code",
   "execution_count": 8,
   "id": "4e368e17",
   "metadata": {},
   "outputs": [],
   "source": [
    "def plot_distributions(N, dict_pk_line, list_cumulative_prob, dict_cumulative_degree, axs):\n",
    "    '''\n",
    "    N: Number of nodes in the graph\n",
    "    dict_pk_line: dictionary with the values of degree^-gamma\n",
    "    list_cumulative_prob: list with the probability to have a node with degree biggest that actual\n",
    "    dict_cumulative_degree: dictionary with each unique degree in the sequence of degrees\n",
    "    axs: name of axes that will by ploted using matplotlib.\n",
    "    \n",
    "    This function plot the degree destribution of a sequence os degrees (blue points), and a red dotted line \n",
    "    with de degree^-gamma.\n",
    "    '''\n",
    "    \n",
    "    axs.scatter(dict_cumulative_degree.keys(), list_cumulative_prob, label='Power law')\n",
    "    axs.plot([min(dict_cumulative_degree.keys()), max(dict_cumulative_degree.keys())], \n",
    "         [max(dict_pk_line.values()), min(dict_pk_line.values())], '--r' , label='k^-2.2')\n",
    "    axs.set_title(f'Degree distribution for 10^{int(np.log10(N))} nodes')\n",
    "    axs.set_xlabel('log(k)')\n",
    "    axs.set_ylabel('log(Pk)')\n",
    "    axs.set_xscale('log')\n",
    "    axs.set_yscale('log')\n",
    "    axs.legend()\n",
    "\n",
    "    axs.set_ylim(11 ** - int(np.log10(N)))"
   ]
  },
  {
   "cell_type": "markdown",
   "id": "9bbd6559",
   "metadata": {},
   "source": [
    "<h3 align=\"center\">  Calculating for each N</h3>"
   ]
  },
  {
   "cell_type": "markdown",
   "id": "47920894",
   "metadata": {},
   "source": [
    "Ploting the degree distribution for each N and the dotted line with $k^{-2.2}$"
   ]
  },
  {
   "cell_type": "code",
   "execution_count": 9,
   "id": "fa439fa5",
   "metadata": {},
   "outputs": [
    {
     "name": "stdout",
     "output_type": "stream",
     "text": [
      "Seed to generate the distribution with 1000 nodes: 546\n",
      "Seed to generate the distribution with 10000 nodes: 546\n",
      "Seed to generate the distribution with 100000 nodes: 546\n"
     ]
    },
    {
     "data": {
      "image/png": "[encoded data removed]",
      "text/plain": [
       "<Figure size 1080x360 with 3 Axes>"
      ]
     },
     "metadata": {
      "needs_background": "light"
     },
     "output_type": "display_data"
    }
   ],
   "source": [
    "all_list_of_degree = []\n",
    "\n",
    "fig, (ax1, ax2, ax3) = plt.subplots(1, 3, figsize=(15,5))\n",
    "\n",
    "fig.suptitle('Cumulative degree distribution for all Ns', fontsize=14)\n",
    "\n",
    "# Plot N = 10^3\n",
    "list_of_degs = get_list_of_degrees(df_metrics['N'][0])\n",
    "all_list_of_degree.append(list_of_degs)\n",
    "list_cumulative_prob, dict_cumulative_degree = degree_distribution(list_of_degs)\n",
    "dict_pk_line = K_gamma_distribution(list_of_degs)\n",
    "plot_distributions(df_metrics['N'][0], dict_pk_line, list_cumulative_prob, dict_cumulative_degree, ax1)\n",
    "\n",
    "# Plot N = 10^4\n",
    "list_of_degs_2 = get_list_of_degrees(df_metrics['N'][1])\n",
    "all_list_of_degree.append(list_of_degs_2)\n",
    "list_cumulative_prob_2, dict_cumulative_degree_2 = degree_distribution(list_of_degs_2)\n",
    "dict_pk_line_2 = K_gamma_distribution(list_of_degs_2)\n",
    "plot_distributions(df_metrics['N'][1], dict_pk_line_2, list_cumulative_prob_2, dict_cumulative_degree_2, ax2)\n",
    "               \n",
    "# Plot N = 10^5\n",
    "list_of_degs_3= get_list_of_degrees(df_metrics['N'][2])\n",
    "all_list_of_degree.append(list_of_degs_3)\n",
    "list_cumulative_prob_3, dict_cumulative_degree_3 = degree_distribution(list_of_degs_3)\n",
    "dict_pk_line_3 = K_gamma_distribution(list_of_degs_3)\n",
    "plot_distributions(df_metrics['N'][2], dict_pk_line_3, list_cumulative_prob_3, dict_cumulative_degree_3, ax3)\n"
   ]
  },
  {
   "cell_type": "markdown",
   "id": "7ec161b3",
   "metadata": {},
   "source": [
    "<h3 align=\"center\"> Number of node in the graph </h3>\n",
    "<h3 align=\"center\">$N = \\left( {\\frac{{k_{max} }}{{k_{\\min } }}} \\right)^{\\gamma  - 1}$</h3> "
   ]
  },
  {
   "cell_type": "code",
   "execution_count": 10,
   "id": "334f6735",
   "metadata": {},
   "outputs": [
    {
     "name": "stdout",
     "output_type": "stream",
     "text": [
      "Following the formula this network with 10^3 nodes can have approximately 999 nodes \n",
      "Following the formula this network with 10^4 nodes can have approximately 9997 nodes \n",
      "Following the formula this network with 10^5 nodes can have approximately 100000 nodes \n"
     ]
    }
   ],
   "source": [
    "k_max = get_kmax()\n",
    "print(f'Following the formula this network with 10^3 nodes can have approximately {int((k_max/K_min) ** (gamma - 1))} nodes ')\n",
    "\n",
    "k_max = get_kmax(N=N *10)\n",
    "print(f'Following the formula this network with 10^4 nodes can have approximately {int((k_max/K_min) ** (gamma - 1))} nodes ')\n",
    "\n",
    "k_max = get_kmax(N=N *100)\n",
    "print(f'Following the formula this network with 10^5 nodes can have approximately {int((k_max/K_min) ** (gamma - 1))} nodes ')"
   ]
  },
  {
   "cell_type": "markdown",
   "id": "06e7e2d3",
   "metadata": {},
   "source": [
    "<h3 align=\"center\">  Configuration model (NetworkX)</h3>"
   ]
  },
  {
   "cell_type": "code",
   "execution_count": 11,
   "id": "74b8c160",
   "metadata": {},
   "outputs": [],
   "source": [
    "def count_multi_edges(G):\n",
    "    '''\n",
    "    G: A graph\n",
    "    \n",
    "    This function return the total of multi edges in a graph (multi edges is considered the total of\n",
    "    edges between two nodes, when the total is biggest taht one).\n",
    "    For exemplate: Between node A and B have 3 links, whe count 2 multi links.\n",
    "    '''\n",
    "    multi_edges = []\n",
    "    for node in G.nodes():\n",
    "        for neig in G.neighbors(node):\n",
    "            if node != neig: # Disconsider the self loops in multi links\n",
    "                multi_edges.append(max(G.number_of_edges(node, neig)-1, 0))\n",
    "\n",
    "    return round((sum(multi_edges)*0.5) / G.number_of_edges() * 100, 2)"
   ]
  },
  {
   "cell_type": "code",
   "execution_count": 12,
   "id": "46f70aa3",
   "metadata": {},
   "outputs": [],
   "source": [
    "def count_self_loops(G):\n",
    "    '''\n",
    "    G: A graph\n",
    "    \n",
    "    This function return the total os self links in the grapg G (self links is when the origin and destine node are the same).\n",
    "    '''\n",
    "    return round(len(list(nx.selfloop_edges(G))) / G.number_of_edges() * 100, 2)"
   ]
  },
  {
   "cell_type": "code",
   "execution_count": 13,
   "id": "edb0fcf4",
   "metadata": {},
   "outputs": [
    {
     "data": {
      "text/html": [
       "<div>\n",
       "<style scoped>\n",
       "    .dataframe tbody tr th:only-of-type {\n",
       "        vertical-align: middle;\n",
       "    }\n",
       "\n",
       "    .dataframe tbody tr th {\n",
       "        vertical-align: top;\n",
       "    }\n",
       "\n",
       "    .dataframe thead th {\n",
       "        text-align: right;\n",
       "    }\n",
       "</style>\n",
       "<table border=\"1\" class=\"dataframe\">\n",
       "  <thead>\n",
       "    <tr style=\"text-align: right;\">\n",
       "      <th></th>\n",
       "      <th>N</th>\n",
       "      <th>% loops</th>\n",
       "      <th>% multi-links</th>\n",
       "      <th>seed</th>\n",
       "    </tr>\n",
       "  </thead>\n",
       "  <tbody>\n",
       "    <tr>\n",
       "      <th>0</th>\n",
       "      <td>1000</td>\n",
       "      <td>0.43</td>\n",
       "      <td>5.87</td>\n",
       "      <td>546</td>\n",
       "    </tr>\n",
       "    <tr>\n",
       "      <th>1</th>\n",
       "      <td>10000</td>\n",
       "      <td>0.30</td>\n",
       "      <td>3.99</td>\n",
       "      <td>546</td>\n",
       "    </tr>\n",
       "    <tr>\n",
       "      <th>2</th>\n",
       "      <td>100000</td>\n",
       "      <td>0.07</td>\n",
       "      <td>3.97</td>\n",
       "      <td>546</td>\n",
       "    </tr>\n",
       "  </tbody>\n",
       "</table>\n",
       "</div>"
      ],
      "text/plain": [
       "        N  % loops  % multi-links  seed\n",
       "0    1000     0.43           5.87   546\n",
       "1   10000     0.30           3.99   546\n",
       "2  100000     0.07           3.97   546"
      ]
     },
     "execution_count": 13,
     "metadata": {},
     "output_type": "execute_result"
    }
   ],
   "source": [
    "list_self_loops = [] # List with % of self loops in the each N\n",
    "list_multi_links = [] # List with % of multi graphs in the each N\n",
    "\n",
    "for idx_N in range(df_metrics.index.size): # Loop para create and calcule the metrics for each N in df_metrics\n",
    "    G_temp = nx.configuration_model(all_list_of_degree[idx_N], seed=list_seeds[idx_N])\n",
    "    list_self_loops.append(count_self_loops(G_temp))\n",
    "    list_multi_links.append(count_multi_edges(G_temp))\n",
    "    \n",
    "df_metrics['% loops'] = list_self_loops\n",
    "df_metrics['% multi-links'] = list_multi_links\n",
    "df_metrics['seed'] = list_seeds\n",
    "\n",
    "df_metrics"
   ]
  },
  {
   "cell_type": "code",
   "execution_count": null,
   "id": "5c17928a",
   "metadata": {},
   "outputs": [],
   "source": []
  },
  {
   "cell_type": "code",
   "execution_count": 14,
   "id": "afdfef6e",
   "metadata": {},
   "outputs": [],
   "source": [
    "# Save the metrics in a csv file\n",
    "# df_metrics.to_csv('homework_7_metrics.csv')"
   ]
  }
 ],
 "metadata": {
  "kernelspec": {
   "display_name": "Python 3",
   "language": "python",
   "name": "python3"
  },
  "language_info": {
   "codemirror_mode": {
    "name": "ipython",
    "version": 3
   },
   "file_extension": ".py",
   "mimetype": "text/x-python",
   "name": "python",
   "nbconvert_exporter": "python",
   "pygments_lexer": "ipython3",
   "version": "3.8.8"
  }
 },
 "nbformat": 4,
 "nbformat_minor": 5
}
