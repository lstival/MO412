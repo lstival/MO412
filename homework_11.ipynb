{
 "cells": [
  {
   "cell_type": "code",
   "execution_count": 1,
   "id": "98c5da62",
   "metadata": {},
   "outputs": [],
   "source": [
    "import pandas as pd\n",
    "import numpy as np\n",
    "import networkx as nx\n",
    "from collections import Counter"
   ]
  },
  {
   "cell_type": "code",
   "execution_count": 2,
   "id": "8e6ddca3",
   "metadata": {},
   "outputs": [],
   "source": [
    "N = 3 # Total od nodes in the star graph"
   ]
  },
  {
   "cell_type": "markdown",
   "id": "e22765bb",
   "metadata": {},
   "source": [
    "### Creating the star graph"
   ]
  },
  {
   "cell_type": "code",
   "execution_count": 3,
   "id": "69c96da9",
   "metadata": {},
   "outputs": [],
   "source": [
    "G_star = nx.star_graph(N-1)"
   ]
  },
  {
   "cell_type": "code",
   "execution_count": 4,
   "id": "dd0d85b5",
   "metadata": {},
   "outputs": [
    {
     "data": {
      "image/png": "[encoded data removed]",
      "text/plain": [
       "<Figure size 432x288 with 1 Axes>"
      ]
     },
     "metadata": {},
     "output_type": "display_data"
    }
   ],
   "source": [
    "nx.draw(G_star)"
   ]
  },
  {
   "cell_type": "markdown",
   "id": "810602a3",
   "metadata": {},
   "source": [
    "### (A) Ranges of $j$ and $k$ in the sum of star graph"
   ]
  },
  {
   "cell_type": "markdown",
   "id": "d6bcd5be",
   "metadata": {},
   "source": [
    "http://networksciencebook.com/chapter/7#measuring-degree"
   ]
  },
  {
   "cell_type": "code",
   "execution_count": 5,
   "id": "7b2bceb5",
   "metadata": {},
   "outputs": [
    {
     "data": {
      "text/plain": [
       "array([1, 2])"
      ]
     },
     "execution_count": 5,
     "metadata": {},
     "output_type": "execute_result"
    }
   ],
   "source": [
    "unique_degrees = np.unique([G_star.degree(n) for n in G_star.nodes()])\n",
    "unique_degrees"
   ]
  },
  {
   "cell_type": "markdown",
   "id": "5ae7e1ca",
   "metadata": {},
   "source": [
    "The ranges of degree in a star network is only two degrees: $N - 1$ (the central node) and $1$ (all other nodes)"
   ]
  },
  {
   "cell_type": "markdown",
   "id": "52242cec",
   "metadata": {},
   "source": [
    "### (B) What is the definition and values of $ejk$ ?"
   ]
  },
  {
   "cell_type": "markdown",
   "id": "ce0978dc",
   "metadata": {},
   "source": [
    "$ejk$ is the degree corelation matrix, its shows the probability to a link selected randomly have nodes with degree $j$ and $k$"
   ]
  },
  {
   "cell_type": "code",
   "execution_count": 6,
   "id": "a68d56ab",
   "metadata": {},
   "outputs": [],
   "source": [
    "def average_degree(G):\n",
    "    '''\n",
    "    G: A graph\n",
    "    \n",
    "    This function calculate de average dregee for the garph G, and return this value round to UP\n",
    "    '''\n",
    "    # Sum of all degrees\n",
    "    total_deg = sum([G.degree(n) for n in G.nodes()])\n",
    "    # Total of degree * 1 / total de nodes (like a formula)\n",
    "    avg_degree =  total_deg  * 1/ G.number_of_nodes()\n",
    "    \n",
    "    return avg_degree"
   ]
  },
  {
   "cell_type": "code",
   "execution_count": 7,
   "id": "d780c9af",
   "metadata": {},
   "outputs": [
    {
     "data": {
      "text/plain": [
       "1.3333333333333333"
      ]
     },
     "execution_count": 7,
     "metadata": {},
     "output_type": "execute_result"
    }
   ],
   "source": [
    "average_degree(G_star)"
   ]
  },
  {
   "cell_type": "code",
   "execution_count": 8,
   "id": "866d0d86",
   "metadata": {},
   "outputs": [],
   "source": [
    "list_of_prob = [] #List wit hthe probability between two nodes\n",
    "for degree in unique_degrees:\n",
    "    for degree2 in unique_degrees:\n",
    "        #Set value equals zero because star network dont have self links\n",
    "        if degree == degree2:\n",
    "            list_of_prob.append(0)\n",
    "        else:\n",
    "            list_of_prob.append((degree * degree2) / (G_star.number_of_edges()))"
   ]
  },
  {
   "cell_type": "code",
   "execution_count": 9,
   "id": "2ef08d55",
   "metadata": {},
   "outputs": [
    {
     "data": {
      "text/plain": [
       "array([[0., 1.],\n",
       "       [1., 0.]])"
      ]
     },
     "execution_count": 9,
     "metadata": {},
     "output_type": "execute_result"
    }
   ],
   "source": [
    "# The variable eij (adjacente matriz 'i' rows 'j' columns)\n",
    "probability_matrix = np.reshape(list_of_prob, (2, 2))\n",
    "probability_matrix"
   ]
  },
  {
   "cell_type": "markdown",
   "id": "307f5093",
   "metadata": {},
   "source": [
    "The values for $j$ and $k$ in a star graph are 1 for both, because the end of link have a node with degree $1$ or $N-1$. <br>\n",
    "And the formula $7.2$ confirms this, because the sum of probabilitis is equal to $1$ <br> $\\sum\\limits_{i,j} {e_{ij} }  = 1 \\hspace{10 mm} (7 . 2)$"
   ]
  },
  {
   "cell_type": "markdown",
   "id": "009db551",
   "metadata": {},
   "source": [
    "### (C) What is the definition of and values $qj$?"
   ]
  },
  {
   "cell_type": "markdown",
   "id": "4015f1a1",
   "metadata": {},
   "source": [
    "$qj$ is the probability to find a node with degree $j$ in a randomly selected link."
   ]
  },
  {
   "cell_type": "code",
   "execution_count": 10,
   "id": "64351f1d",
   "metadata": {},
   "outputs": [],
   "source": [
    "def degree_probability(G):\n",
    "    deg = [G.degree(n) for n in G.nodes()] # Find the degree of nodes\n",
    "    dict_deg_distribution = Counter(deg) # Count how many times each degree apears\n",
    "    \n",
    "    dist_prob_degree = {} # List with probability of each degree\n",
    "    for deg_dist in dict_deg_distribution:\n",
    "        dist_prob_degree[deg_dist] = (dict_deg_distribution[deg_dist]/len(deg))\n",
    "        \n",
    "    return dist_prob_degree"
   ]
  },
  {
   "cell_type": "code",
   "execution_count": 11,
   "id": "fb1a4ea9",
   "metadata": {},
   "outputs": [
    {
     "name": "stdout",
     "output_type": "stream",
     "text": [
      "The probability for find each degree in the network is: {2: 0.3333333333333333, 1: 0.6666666666666666}\n"
     ]
    }
   ],
   "source": [
    "# Get the avegare degree\n",
    "K_average = average_degree(G_star)\n",
    "\n",
    "# Get the degree probability\n",
    "pK = degree_probability(G_star)\n",
    "print(f'The probability for find each degree in the network is: {pK}')"
   ]
  },
  {
   "cell_type": "markdown",
   "id": "5c583548",
   "metadata": {},
   "source": [
    "After find the probability for find a link with degree $k$ in the network. It's possible find $qk$ that represents the probability to find a node with degree $k$ at the end of a link. The formula $(7.3)$ shows hows $q_k  = \\frac{{kp_k }}{{\\left\\langle k \\right\\rangle }} \\hspace{10 mm} (7 . 3)$"
   ]
  },
  {
   "cell_type": "code",
   "execution_count": 12,
   "id": "8e8699a1",
   "metadata": {},
   "outputs": [
    {
     "name": "stdout",
     "output_type": "stream",
     "text": [
      "The values for qK are: {2: 0.5, 1: 0.5}\n"
     ]
    }
   ],
   "source": [
    "qK = {} #Dicitionary with probability to find the degree in the end of the link\n",
    "for degree in pK:\n",
    "    qK[degree] = degree * pK[degree] / K_average\n",
    "    \n",
    "print(f'The values for qK are: {qK}')"
   ]
  },
  {
   "cell_type": "markdown",
   "id": "bc762d18",
   "metadata": {},
   "source": [
    "The values for $qj$ are $0.5$ (in the example for $N = 3$ for both possibles values for $j$ ($1$ and $N-1$)."
   ]
  },
  {
   "cell_type": "markdown",
   "id": "9f836950",
   "metadata": {},
   "source": [
    "### (D) What is the value of this sum for the star network $S(N)$?\n"
   ]
  },
  {
   "cell_type": "markdown",
   "id": "83d269e7",
   "metadata": {},
   "source": [
    "$\\sum\\limits_{jk}{jk(e_{jk}  - q_j q_k )}$"
   ]
  },
  {
   "cell_type": "code",
   "execution_count": 13,
   "id": "5386a3ff",
   "metadata": {},
   "outputs": [
    {
     "data": {
      "text/html": [
       "<div>\n",
       "<style scoped>\n",
       "    .dataframe tbody tr th:only-of-type {\n",
       "        vertical-align: middle;\n",
       "    }\n",
       "\n",
       "    .dataframe tbody tr th {\n",
       "        vertical-align: top;\n",
       "    }\n",
       "\n",
       "    .dataframe thead th {\n",
       "        text-align: right;\n",
       "    }\n",
       "</style>\n",
       "<table border=\"1\" class=\"dataframe\">\n",
       "  <thead>\n",
       "    <tr style=\"text-align: right;\">\n",
       "      <th></th>\n",
       "      <th>1</th>\n",
       "      <th>2</th>\n",
       "    </tr>\n",
       "  </thead>\n",
       "  <tbody>\n",
       "    <tr>\n",
       "      <th>1</th>\n",
       "      <td>0.0</td>\n",
       "      <td>1.0</td>\n",
       "    </tr>\n",
       "    <tr>\n",
       "      <th>2</th>\n",
       "      <td>1.0</td>\n",
       "      <td>0.0</td>\n",
       "    </tr>\n",
       "  </tbody>\n",
       "</table>\n",
       "</div>"
      ],
      "text/plain": [
       "     1    2\n",
       "1  0.0  1.0\n",
       "2  1.0  0.0"
      ]
     },
     "execution_count": 13,
     "metadata": {},
     "output_type": "execute_result"
    }
   ],
   "source": [
    "df_degree_prob = pd.DataFrame(probability_matrix, columns=unique_degrees).set_index(unique_degrees)\n",
    "df_degree_prob"
   ]
  },
  {
   "cell_type": "markdown",
   "id": "95e152f0",
   "metadata": {},
   "source": [
    "I dont used the formula $(7.5)$ $e_{ij}  = q_i q_j$ because this network dont look neutral, but disassortative, because the hubs (central node in the star) don't conected to anothers hubs (because don't exist other hubs), but to small degrees (all other nodes in the star network). "
   ]
  },
  {
   "cell_type": "code",
   "execution_count": 14,
   "id": "c60729fb",
   "metadata": {},
   "outputs": [],
   "source": [
    "cum_sum = 0\n",
    "for j in unique_degrees:\n",
    "    for k in unique_degrees:\n",
    "        if j != k: #Only sum conection between nodes (not self links)\n",
    "            cum_sum += (j*k)*(df_degree_prob[j][k] - (qK[j]*qK[k]))"
   ]
  },
  {
   "cell_type": "code",
   "execution_count": 15,
   "id": "6d83a006",
   "metadata": {},
   "outputs": [
    {
     "name": "stdout",
     "output_type": "stream",
     "text": [
      "The value of sum for N=3 is: 3.0 \n"
     ]
    }
   ],
   "source": [
    "print(f'The value of sum for N={N} is: {cum_sum} ')"
   ]
  },
  {
   "cell_type": "markdown",
   "id": "87b48de0",
   "metadata": {},
   "source": [
    "### (E) What is the range of k in this sum for the star network $S(N)$?\n"
   ]
  },
  {
   "cell_type": "markdown",
   "id": "c6e657fa",
   "metadata": {},
   "source": [
    "The range is between the degree of center node ($N-1$) and all other nodes ($1$) <br>\n",
    "For example: $N = 3$ we have two different degrees in the network $1$ and $2$."
   ]
  },
  {
   "cell_type": "markdown",
   "id": "601fd455",
   "metadata": {},
   "source": [
    "### (F) Determine the value of $a$ for $S(N)$."
   ]
  },
  {
   "cell_type": "markdown",
   "id": "58bbb6e4",
   "metadata": {},
   "source": [
    "$a = \\sum\\limits_{k} K_{qk}$"
   ]
  },
  {
   "cell_type": "code",
   "execution_count": 16,
   "id": "c251d4eb",
   "metadata": {},
   "outputs": [],
   "source": [
    "a = 0\n",
    "for qk_idx in unique_degrees:\n",
    "    a += qk_idx * qK[qk_idx]"
   ]
  },
  {
   "cell_type": "code",
   "execution_count": 17,
   "id": "bd3d6807",
   "metadata": {},
   "outputs": [
    {
     "name": "stdout",
     "output_type": "stream",
     "text": [
      "The value of a for N=3 is: 1.5 \n"
     ]
    }
   ],
   "source": [
    "print(f'The value of a for N={N} is: {a} ')"
   ]
  },
  {
   "cell_type": "markdown",
   "id": "8afee941",
   "metadata": {},
   "source": [
    "### (G) Determine the value of $b$ for $S(N)$."
   ]
  },
  {
   "cell_type": "markdown",
   "id": "95641461",
   "metadata": {},
   "source": [
    "$b = \\sum\\limits_{k} K^{2}_{qk}$"
   ]
  },
  {
   "cell_type": "code",
   "execution_count": 18,
   "id": "376af511",
   "metadata": {},
   "outputs": [],
   "source": [
    "b = 0\n",
    "for qk_idx in unique_degrees:\n",
    "    b += (qk_idx**2) * qK[qk_idx]"
   ]
  },
  {
   "cell_type": "code",
   "execution_count": 19,
   "id": "34eca534",
   "metadata": {},
   "outputs": [
    {
     "name": "stdout",
     "output_type": "stream",
     "text": [
      "The value of b for N=3 is: 2.5 \n"
     ]
    }
   ],
   "source": [
    "print(f'The value of b for N={N} is: {b} ')"
   ]
  },
  {
   "cell_type": "markdown",
   "id": "072820c7",
   "metadata": {},
   "source": [
    "### (H) Compute $σ^2 = b − a 2$ for $S(N)$."
   ]
  },
  {
   "cell_type": "code",
   "execution_count": 20,
   "id": "2d17edb0",
   "metadata": {},
   "outputs": [],
   "source": [
    "sqr_sigma = b - (a **2)"
   ]
  },
  {
   "cell_type": "code",
   "execution_count": 21,
   "id": "1ffd96a9",
   "metadata": {},
   "outputs": [
    {
     "name": "stdout",
     "output_type": "stream",
     "text": [
      "The value of square sigma for N=3 is: 0.25 \n"
     ]
    }
   ],
   "source": [
    "print(f'The value of square sigma for N={N} is: {sqr_sigma} ')"
   ]
  },
  {
   "cell_type": "markdown",
   "id": "3fb37880",
   "metadata": {},
   "source": [
    "### (I) Compute $r$ for $S(N)$ dividing the value from item 1d by the value of $σ$\n"
   ]
  },
  {
   "cell_type": "code",
   "execution_count": 22,
   "id": "4b822aa2",
   "metadata": {},
   "outputs": [],
   "source": [
    "r = 1/sqr_sigma * cum_sum"
   ]
  },
  {
   "cell_type": "code",
   "execution_count": 23,
   "id": "d863c53d",
   "metadata": {
    "scrolled": true
   },
   "outputs": [
    {
     "name": "stdout",
     "output_type": "stream",
     "text": [
      "The value of r for N=3 is: 12.0 \n"
     ]
    }
   ],
   "source": [
    "print(f'The value of r for N={N} is: {r} ')"
   ]
  }
 ],
 "metadata": {
  "kernelspec": {
   "display_name": "Python 3",
   "language": "python",
   "name": "python3"
  },
  "language_info": {
   "codemirror_mode": {
    "name": "ipython",
    "version": 3
   },
   "file_extension": ".py",
   "mimetype": "text/x-python",
   "name": "python",
   "nbconvert_exporter": "python",
   "pygments_lexer": "ipython3",
   "version": "3.8.8"
  }
 },
 "nbformat": 4,
 "nbformat_minor": 5
}
